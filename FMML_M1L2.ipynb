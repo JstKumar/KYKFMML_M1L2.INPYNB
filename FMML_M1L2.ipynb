{
  "cells": [
    {
      "cell_type": "markdown",
      "metadata": {
        "id": "view-in-github",
        "colab_type": "text"
      },
      "source": [
        "<a href=\"https://colab.research.google.com/github/JstKumar/KYKFMML_M1L2.INPYNB/blob/main/FMML_M1L2.ipynb\" target=\"_parent\"><img src=\"https://colab.research.google.com/assets/colab-badge.svg\" alt=\"Open In Colab\"/></a>"
      ]
    },
    {
      "cell_type": "markdown",
      "metadata": {
        "id": "3Eu9VZbF01eq"
      },
      "source": [
        "# Machine Learning terms and metrics\n",
        "\n",
        "FMML Module 1, Lab 2\n",
        "\n",
        "In this lab, we will show a part of the ML pipeline by using the California Housing dataset. There are 20640 samples, each with 8 attributes like income of the block, age of the houses per district etc. The task is to predict the cost of the houses per district. We will use the scikit-learn library to load the data and perform some basic data preprocessing and model training. We will also show how to evaluate the model using some common metrics, split the data into training and testing sets, and use cross-validation to get a better estimate of the model's performance."
      ]
    },
    {
      "cell_type": "code",
      "execution_count": 1,
      "metadata": {
        "id": "8qBvyEem0vLi"
      },
      "outputs": [],
      "source": [
        "import numpy as np\n",
        "from sklearn import datasets\n",
        "import matplotlib.pyplot as plt\n",
        "\n",
        "rng = np.random.default_rng(seed=42)"
      ]
    },
    {
      "cell_type": "code",
      "execution_count": 2,
      "metadata": {
        "colab": {
          "base_uri": "https://localhost:8080/"
        },
        "id": "8LpqjN991GGJ",
        "outputId": "a055c8d6-25c5-45c4-ac48-2cf6052a415b"
      },
      "outputs": [
        {
          "output_type": "stream",
          "name": "stdout",
          "text": [
            ".. _california_housing_dataset:\n",
            "\n",
            "California Housing dataset\n",
            "--------------------------\n",
            "\n",
            "**Data Set Characteristics:**\n",
            "\n",
            "    :Number of Instances: 20640\n",
            "\n",
            "    :Number of Attributes: 8 numeric, predictive attributes and the target\n",
            "\n",
            "    :Attribute Information:\n",
            "        - MedInc        median income in block group\n",
            "        - HouseAge      median house age in block group\n",
            "        - AveRooms      average number of rooms per household\n",
            "        - AveBedrms     average number of bedrooms per household\n",
            "        - Population    block group population\n",
            "        - AveOccup      average number of household members\n",
            "        - Latitude      block group latitude\n",
            "        - Longitude     block group longitude\n",
            "\n",
            "    :Missing Attribute Values: None\n",
            "\n",
            "This dataset was obtained from the StatLib repository.\n",
            "https://www.dcc.fc.up.pt/~ltorgo/Regression/cal_housing.html\n",
            "\n",
            "The target variable is the median house value for California districts,\n",
            "expressed in hundreds of thousands of dollars ($100,000).\n",
            "\n",
            "This dataset was derived from the 1990 U.S. census, using one row per census\n",
            "block group. A block group is the smallest geographical unit for which the U.S.\n",
            "Census Bureau publishes sample data (a block group typically has a population\n",
            "of 600 to 3,000 people).\n",
            "\n",
            "A household is a group of people residing within a home. Since the average\n",
            "number of rooms and bedrooms in this dataset are provided per household, these\n",
            "columns may take surprisingly large values for block groups with few households\n",
            "and many empty houses, such as vacation resorts.\n",
            "\n",
            "It can be downloaded/loaded using the\n",
            ":func:`sklearn.datasets.fetch_california_housing` function.\n",
            "\n",
            ".. topic:: References\n",
            "\n",
            "    - Pace, R. Kelley and Ronald Barry, Sparse Spatial Autoregressions,\n",
            "      Statistics and Probability Letters, 33 (1997) 291-297\n",
            "\n"
          ]
        }
      ],
      "source": [
        "dataset = datasets.fetch_california_housing()\n",
        "# Dataset description\n",
        "print(dataset.DESCR)"
      ]
    },
    {
      "cell_type": "markdown",
      "metadata": {
        "id": "PCe1VNftevgE"
      },
      "source": [
        "Given below are the list of target values. These correspond to the house value derived considering all the 8 input features and are continuous values. We should use regression models to predict these values but we will start with a simple classification model for the sake of simplicity. We need to just round off the values to the nearest integer and use a classification model to predict the house value."
      ]
    },
    {
      "cell_type": "code",
      "execution_count": 3,
      "metadata": {
        "colab": {
          "base_uri": "https://localhost:8080/"
        },
        "id": "F8K0ggBOevgE",
        "outputId": "91ce0e78-9485-42b4-d8f9-ebc385b27e48"
      },
      "outputs": [
        {
          "output_type": "stream",
          "name": "stdout",
          "text": [
            "Orignal target values: [4.526 3.585 3.521 ... 0.923 0.847 0.894]\n",
            "Target values after conversion: [4 3 3 ... 0 0 0]\n",
            "Input variables shape: (20640, 8)\n",
            "Output variables shape: (20640,)\n"
          ]
        }
      ],
      "source": [
        "print(\"Orignal target values:\", dataset.target)\n",
        "\n",
        "dataset.target = dataset.target.astype(int)\n",
        "\n",
        "print(\"Target values after conversion:\", dataset.target)\n",
        "print(\"Input variables shape:\", dataset.data.shape)\n",
        "print(\"Output variables shape:\", dataset.target.shape)"
      ]
    },
    {
      "cell_type": "markdown",
      "metadata": {
        "id": "iNx4174W5xRg"
      },
      "source": [
        "The simplest model to use for classification is the K-Nearest Neighbors model. We will use this model to predict the house value with a K value of 1. We will also use the accuracy metric to evaluate the model."
      ]
    },
    {
      "cell_type": "code",
      "execution_count": 4,
      "metadata": {
        "id": "07zpydQj1hIQ"
      },
      "outputs": [],
      "source": [
        "def NN1(traindata, trainlabel, query):\n",
        "    \"\"\"\n",
        "    This function takes in the training data, training labels and a query point\n",
        "    and returns the predicted label for the query point using the nearest neighbour algorithm\n",
        "\n",
        "    traindata: numpy array of shape (n,d) where n is the number of samples and d is the number of features\n",
        "    trainlabel: numpy array of shape (n,) where n is the number of samples\n",
        "    query: numpy array of shape (d,) where d is the number of features\n",
        "\n",
        "    returns: the predicted label for the query point which is the label of the training data which is closest to the query point\n",
        "    \"\"\"\n",
        "    diff = (\n",
        "        traindata - query\n",
        "    )  # find the difference between features. Numpy automatically takes care of the size here\n",
        "    sq = diff * diff  # square the differences\n",
        "    dist = sq.sum(1)  # add up the squares\n",
        "    label = trainlabel[np.argmin(dist)]\n",
        "    return label\n",
        "\n",
        "\n",
        "def NN(traindata, trainlabel, testdata):\n",
        "    \"\"\"\n",
        "    This function takes in the training data, training labels and test data\n",
        "    and returns the predicted labels for the test data using the nearest neighbour algorithm\n",
        "\n",
        "    traindata: numpy array of shape (n,d) where n is the number of samples and d is the number of features\n",
        "    trainlabel: numpy array of shape (n,) where n is the number of samples\n",
        "    testdata: numpy array of shape (m,d) where m is the number of test samples and d is the number of features\n",
        "\n",
        "    returns: the predicted labels for the test data which is the label of the training data which is closest to each test point\n",
        "    \"\"\"\n",
        "    predlabel = np.array([NN1(traindata, trainlabel, i) for i in testdata])\n",
        "    return predlabel"
      ]
    },
    {
      "cell_type": "markdown",
      "metadata": {
        "id": "03JktkfIGaje"
      },
      "source": [
        "We will also define a 'random classifier', which randomly allots labels to each sample"
      ]
    },
    {
      "cell_type": "code",
      "execution_count": 5,
      "metadata": {
        "id": "fogWAtjyGhAH"
      },
      "outputs": [],
      "source": [
        "def RandomClassifier(traindata, trainlabel, testdata):\n",
        "    \"\"\"\n",
        "    This function takes in the training data, training labels and test data\n",
        "    and returns the predicted labels for the test data using the random classifier algorithm\n",
        "\n",
        "    In reality, we don't need these arguments but we are passing them to keep the function signature consistent with other classifiers\n",
        "\n",
        "    traindata: numpy array of shape (n,d) where n is the number of samples and d is the number of features\n",
        "    trainlabel: numpy array of shape (n,) where n is the number of samples\n",
        "    testdata: numpy array of shape (m,d) where m is the number of test samples and d is the number of features\n",
        "\n",
        "    returns: the predicted labels for the test data which is a random label from the training data\n",
        "    \"\"\"\n",
        "\n",
        "    classes = np.unique(trainlabel)\n",
        "    rints = rng.integers(low=0, high=len(classes), size=len(testdata))\n",
        "    predlabel = classes[rints]\n",
        "    return predlabel"
      ]
    },
    {
      "cell_type": "markdown",
      "metadata": {
        "id": "1Hjf1KHs7fU5"
      },
      "source": [
        "We need a metric to evaluate the performance of the model. Let us define a metric 'Accuracy' to see how good our learning algorithm is. Accuracy is the ratio of the number of correctly classified samples to the total number of samples. The higher the accuracy, the better the algorithm. We will use the accuracy metric to evaluate and compate the performance of the K-Nearest Neighbors model and the random classifier."
      ]
    },
    {
      "cell_type": "code",
      "execution_count": 6,
      "metadata": {
        "id": "ouuCqWU07bz-"
      },
      "outputs": [],
      "source": [
        "def Accuracy(gtlabel, predlabel):\n",
        "    \"\"\"\n",
        "    This function takes in the ground-truth labels and predicted labels\n",
        "    and returns the accuracy of the classifier\n",
        "\n",
        "    gtlabel: numpy array of shape (n,) where n is the number of samples\n",
        "    predlabel: numpy array of shape (n,) where n is the number of samples\n",
        "\n",
        "    returns: the accuracy of the classifier which is the number of correct predictions divided by the total number of predictions\n",
        "    \"\"\"\n",
        "    assert len(gtlabel) == len(\n",
        "        predlabel\n",
        "    ), \"Length of the ground-truth labels and predicted labels should be the same\"\n",
        "    correct = (\n",
        "        gtlabel == predlabel\n",
        "    ).sum()  # count the number of times the groundtruth label is equal to the predicted label.\n",
        "    return correct / len(gtlabel)"
      ]
    },
    {
      "cell_type": "markdown",
      "metadata": {
        "id": "4vJFwBFa9Klw"
      },
      "source": [
        "Let us make a function to split the dataset with the desired probability. We will use this function to split the dataset into training and testing sets. We will use the training set to train the model and the testing set to evaluate the model."
      ]
    },
    {
      "cell_type": "code",
      "execution_count": 7,
      "metadata": {
        "id": "Ko0VzpSM2Tdi"
      },
      "outputs": [],
      "source": [
        "def split(data, label, percent):\n",
        "    # generate a random number for each sample\n",
        "    rnd = rng.random(len(label))\n",
        "    split1 = rnd < percent\n",
        "    split2 = rnd >= percent\n",
        "\n",
        "    split1data = data[split1, :]\n",
        "    split1label = label[split1]\n",
        "    split2data = data[split2, :]\n",
        "    split2label = label[split2]\n",
        "    return split1data, split1label, split2data, split2label"
      ]
    },
    {
      "cell_type": "markdown",
      "metadata": {
        "id": "AcK3LEAJ_LGC"
      },
      "source": [
        "We will reserve 20% of our dataset as the test set. We will not change this portion throughout our experiments"
      ]
    },
    {
      "cell_type": "code",
      "execution_count": 8,
      "metadata": {
        "colab": {
          "base_uri": "https://localhost:8080/"
        },
        "id": "bBZkHBLJ1iU-",
        "outputId": "1a90b723-a6d9-4023-fa7a-9c6e75abf467"
      },
      "outputs": [
        {
          "output_type": "stream",
          "name": "stdout",
          "text": [
            "Number of test samples: 4144\n",
            "Number of train samples: 16496\n",
            "Percent of test data: 20.07751937984496 %\n"
          ]
        }
      ],
      "source": [
        "testdata, testlabel, alltraindata, alltrainlabel = split(\n",
        "    dataset.data, dataset.target, 20 / 100\n",
        ")\n",
        "print(\"Number of test samples:\", len(testlabel))\n",
        "print(\"Number of train samples:\", len(alltrainlabel))\n",
        "print(\"Percent of test data:\", len(testlabel) * 100 / len(dataset.target), \"%\")"
      ]
    },
    {
      "cell_type": "markdown",
      "metadata": {
        "id": "a6Ss0Z6IAGNV"
      },
      "source": [
        "## Experiments with splits\n",
        "\n",
        "Let us reserve some of our train data as a validation set"
      ]
    },
    {
      "cell_type": "code",
      "execution_count": 9,
      "metadata": {
        "id": "WFew2iry_7W7"
      },
      "outputs": [],
      "source": [
        "traindata, trainlabel, valdata, vallabel = split(\n",
        "    alltraindata, alltrainlabel, 75 / 100)"
      ]
    },
    {
      "cell_type": "markdown",
      "metadata": {
        "id": "60hiu4clFN1i"
      },
      "source": [
        "What is the accuracy of our classifiers on the train dataset?"
      ]
    },
    {
      "cell_type": "code",
      "execution_count": 10,
      "metadata": {
        "colab": {
          "base_uri": "https://localhost:8080/"
        },
        "id": "DBlZDTHUFTZx",
        "outputId": "5aeff269-8436-4326-c7db-4d86658e9b61"
      },
      "outputs": [
        {
          "output_type": "stream",
          "name": "stdout",
          "text": [
            "Training accuracy using nearest neighbour algorithm: 100.0 %\n",
            "Training accuracy using random classifier:  16.4375808538163 %\n"
          ]
        }
      ],
      "source": [
        "trainpred = NN(traindata, trainlabel, traindata)\n",
        "trainAccuracy = Accuracy(trainlabel, trainpred)\n",
        "print(\"Training accuracy using nearest neighbour algorithm:\", trainAccuracy*100, \"%\")\n",
        "\n",
        "trainpred = RandomClassifier(traindata, trainlabel, traindata)\n",
        "trainAccuracy = Accuracy(trainlabel, trainpred)\n",
        "print(\"Training accuracy using random classifier: \", trainAccuracy*100, \"%\")"
      ]
    },
    {
      "cell_type": "markdown",
      "metadata": {
        "id": "7h08-9gJDtSy"
      },
      "source": [
        "For nearest neighbour, the train accuracy is always 1. The accuracy of the random classifier is close to 1/(number of classes) which is 0.1666 in our case. This is because the random classifier randomly assigns a label to each sample and the probability of assigning the correct label is 1/(number of classes). Let us predict the labels for our validation set and get the accuracy. This accuracy is a good estimate of the accuracy of our model on unseen data."
      ]
    },
    {
      "cell_type": "code",
      "execution_count": null,
      "metadata": {
        "id": "4h7bXoW_2H3v"
      },
      "outputs": [],
      "source": [
        "valpred = NN(traindata, trainlabel, valdata)\n",
        "valAccuracy = Accuracy(vallabel, valpred)\n",
        "print(\"Validation accuracy using nearest neighbour algorithm:\", valAccuracy*100, \"%\")\n",
        "\n",
        "\n",
        "valpred = RandomClassifier(traindata, trainlabel, valdata)\n",
        "valAccuracy = Accuracy(vallabel, valpred)\n",
        "print(\"Validation accuracy using random classifier:\", valAccuracy*100, \"%\")"
      ]
    },
    {
      "cell_type": "markdown",
      "metadata": {
        "id": "py9bLguFEjfg"
      },
      "source": [
        "Validation accuracy of nearest neighbour is considerably less than its train accuracy while the validation accuracy of random classifier is the same. However, the validation accuracy of nearest neighbour is twice that of the random classifier. Now let us try another random split and check the validation accuracy. We will see that the validation accuracy changes with the split. This is because the validation set is small and the accuracy is highly dependent on the samples in the validation set. We can get a better estimate of the accuracy by using cross-validation."
      ]
    },
    {
      "cell_type": "code",
      "execution_count": null,
      "metadata": {
        "id": "ujm3cyYzEntE"
      },
      "outputs": [],
      "source": [
        "traindata, trainlabel, valdata, vallabel = split(\n",
        "    alltraindata, alltrainlabel, 75 / 100)\n",
        "valpred = NN(traindata, trainlabel, valdata)\n",
        "valAccuracy = Accuracy(vallabel, valpred)\n",
        "print(\"Validation accuracy using nearest neighbour algorithm:\", valAccuracy*100, \"%\")"
      ]
    },
    {
      "cell_type": "markdown",
      "metadata": {
        "id": "oSOx7U83EKie"
      },
      "source": [
        "You can run the above cell multiple times to try with different random splits.\n",
        "We notice that the accuracy is different for each run, but close together.\n",
        "\n",
        "Now let us compare it with the accuracy we get on the test dataset."
      ]
    },
    {
      "cell_type": "code",
      "execution_count": null,
      "metadata": {
        "id": "PNEZ5ToYBEDW"
      },
      "outputs": [],
      "source": [
        "testpred = NN(alltraindata, alltrainlabel, testdata)\n",
        "testAccuracy = Accuracy(testlabel, testpred)\n",
        "\n",
        "print(\"Test accuracy:\", testAccuracy*100, \"%\")"
      ]
    },
    {
      "cell_type": "markdown",
      "metadata": {
        "id": "w3dGD531K3gH"
      },
      "source": [
        "### Try it out for yourself and answer:\n",
        "1. How is the accuracy of the validation set affected if we increase the percentage of validation set? What happens when we reduce it?\n",
        "When working with machine learning models, the percentage of data allocated to the validation set can significantly affect the evaluation of the model's performance and its ability to generalize. Here's a breakdown of how increasing or decreasing the validation set size impacts accuracy:\n",
        "\n",
        "### Increasing the Percentage of the Validation Set\n",
        "\n",
        "1. **More Reliable Evaluation:**\n",
        "   - **Increased Precision:** A larger validation set provides a more comprehensive evaluation of the model’s performance across a broader spectrum of data. This generally results in a more accurate estimate of the model's performance metrics (e.g., accuracy, precision, recall).\n",
        "   - **Reduced Variance:** With more data in the validation set, the evaluation metrics tend to have lower variance, meaning that the performance estimate is less sensitive to random fluctuations in the data.\n",
        "\n",
        "2. **Fewer Training Examples:**\n",
        "   - **Potential Overfitting:** As the validation set size increases, the number of examples available for training decreases. This can lead to a less well-trained model if the training set becomes too small. The model might not learn enough from the reduced training data, potentially leading to poorer performance.\n",
        "   - **Reduced Model Quality:** Smaller training data might result in less effective learning, potentially reducing the overall accuracy of the model.\n",
        "\n",
        "### Reducing the Percentage of the Validation Set\n",
        "\n",
        "1. **Less Reliable Evaluation:**\n",
        "   - **Increased Variance:** A smaller validation set may not capture the full diversity of the data. This can lead to high variance in performance metrics, making the evaluation less stable and less reliable.\n",
        "   - **Less Accurate Estimates:** With fewer examples, the performance metrics may be more susceptible to noise or outliers in the validation set, potentially giving an inaccurate picture of the model's true performance.\n",
        "\n",
        "2. **More Training Examples:**\n",
        "   - **Better Model Training:** With a larger portion of the data allocated to training, the model has more examples to learn from, which can improve its performance and generalization capabilities.\n",
        "   - **Improved Model Quality:** More training data generally means that the model can better capture the underlying patterns in the data, potentially increasing its accuracy and effectiveness.\n",
        "\n",
        "### Trade-offs and Best Practices\n",
        "\n",
        "1. **Balanced Approach:** The key is to strike a balance between having enough data for validation to get a reliable estimate of performance and having sufficient data for training to ensure the model is well-trained. Common practices include using techniques like cross-validation, where multiple validation sets are used to get a more robust estimate of model performance.\n",
        "\n",
        "2. **Cross-Validation:** In cross-validation, the dataset is divided into multiple folds, and each fold is used as a validation set while the remaining folds are used for training. This helps to mitigate the issue of having too small a validation set and provides a better estimate of model performance.\n",
        "\n",
        "3. **Model Complexity and Data Size:** The impact of changing the validation set size also depends on the complexity of the model and the overall size of the dataset. For smaller datasets, having a large validation set can be detrimental to training, while for larger datasets, the impact may be less pronounced.\n",
        "\n",
        "### Summary\n",
        "\n",
        "- **Increasing the validation set size** generally leads to more reliable performance estimates but reduces the amount of data available for training, which can hurt the model's accuracy if the training data becomes insufficient.\n",
        "- **Reducing the validation set size** allows for more data to be used for training, potentially improving model performance, but may lead to less stable and less reliable performance estimates.\n",
        "\n",
        "Balancing these considerations is crucial for achieving a model that not only performs well on unseen data but also provides trustworthy performance metrics during evaluation.\n",
        "2. How does the size of the train and validation set affect how well we can predict the accuracy on the test set using the validation set?\n",
        "The size of the train and validation sets plays a crucial role in how well you can estimate the accuracy of a model on the test set. Here’s how different sizes impact the accuracy estimation:\n",
        "\n",
        "### Impact of Validation Set Size\n",
        "\n",
        "1. **Accuracy of Performance Estimates:**\n",
        "   - **Larger Validation Set:** With a larger validation set, the performance metrics (such as accuracy) you obtain are more representative of the model’s performance on unseen data. This is because a larger validation set provides a more comprehensive evaluation and reduces the influence of random fluctuations or noise in the data. Consequently, the accuracy estimated on the validation set is generally more reliable and closer to what you might expect on the test set.\n",
        "   - **Smaller Validation Set:** A smaller validation set may not capture the full variability of the data. As a result, performance estimates can be less stable and more affected by random noise or outliers. This can lead to inaccuracies in estimating the model's performance on the test set, as the small validation set might not be fully representative of the broader data distribution.\n",
        "\n",
        "2. **Variance in Performance Estimates:**\n",
        "   - **Larger Validation Set:** Reduces the variance in performance estimates. A larger sample size provides a better approximation of the true performance of the model, leading to more stable and consistent accuracy metrics.\n",
        "   - **Smaller Validation Set:** Increases the variance in performance estimates. Performance metrics can fluctuate more due to the smaller sample size, which may not fully represent the diversity of the data.\n",
        "\n",
        "### Impact of Training Set Size\n",
        "\n",
        "1. **Model Learning and Generalization:**\n",
        "   - **Larger Training Set:** Provides more examples for the model to learn from, which generally improves the model’s ability to generalize to new, unseen data. A well-trained model is likely to perform better on the test set. However, the accuracy of the performance estimate from the validation set remains crucial.\n",
        "   - **Smaller Training Set:** The model may not learn effectively from a smaller amount of data, potentially leading to overfitting or underfitting. This can affect the model’s generalization ability and subsequently impact how well the validation accuracy predicts the test accuracy.\n",
        "\n",
        "2. **Balance Between Training and Validation:**\n",
        "   - **Balanced Sets:** Ideally, you want a balance where both the training and validation sets are sufficiently large to ensure the model is well-trained and the performance estimates are reliable. This balance allows for accurate performance evaluation and better generalization to the test set.\n",
        "   - **Imbalance:** If the training set is very large while the validation set is very small (or vice versa), the performance metrics might not accurately reflect the model’s true performance. An extremely small validation set might not capture the model's performance accurately, while a very small training set might lead to a poorly trained model.\n",
        "\n",
        "### Summary\n",
        "\n",
        "- **A larger validation set** provides a more accurate and stable estimate of how well the model will perform on the test set because it reduces the variance in performance metrics and captures a more representative sample of the data.\n",
        "- **A smaller validation set** can lead to less reliable performance estimates due to increased variance and potential lack of representativeness.\n",
        "- **A larger training set** generally improves model performance and helps in achieving better generalization, which can also help in obtaining more reliable validation metrics, provided the validation set is also adequately sized.\n",
        "\n",
        "In practice, using techniques like cross-validation can help mitigate some of these issues by using multiple validation sets and averaging performance estimates. This approach helps in achieving a more robust and reliable evaluation of the model's performance.\n",
        "3. What do you think is a good percentage to reserve for the validation set so that thest two factors are balanced?\n",
        "Choosing the right percentage to reserve for the validation set involves balancing several factors, including the size of the dataset, the complexity of the model, and the need for reliable performance estimates. Here are some general guidelines and common practices to help you decide on a suitable percentage for the validation set:\n",
        "\n",
        "### General Guidelines\n",
        "\n",
        "1. **Size of the Dataset:**\n",
        "   - **Large Datasets:** For large datasets (e.g., thousands or millions of examples), reserving 10% to 20% of the data for validation is typically sufficient. The large size of the dataset ensures that even a smaller percentage of data will provide a reliable performance estimate.\n",
        "   - **Medium-Sized Datasets:** For datasets with a moderate number of examples (e.g., hundreds to a few thousand), reserving around 20% to 30% of the data for validation is a common practice. This balance provides enough data for validation while still retaining a substantial amount for training.\n",
        "   - **Small Datasets:** For smaller datasets (e.g., fewer than 1000 examples), a larger percentage may be necessary to get a reliable estimate of performance. In such cases, you might reserve 30% to 40% of the data for validation, but also consider using techniques like cross-validation to maximize the use of limited data.\n",
        "\n",
        "2. **Model Complexity:**\n",
        "   - **Simple Models:** For simpler models, a smaller validation set may be sufficient because the model's performance may not be as sensitive to the size of the validation set.\n",
        "   - **Complex Models:** For more complex models, a larger validation set can help provide a more accurate estimate of performance due to the increased sensitivity of these models to data variations.\n",
        "\n",
        "3. **Purpose of Validation:**\n",
        "   - **Hyperparameter Tuning:** If the primary use of the validation set is for hyperparameter tuning, ensure it's large enough to give a good estimate of the model's performance with different hyperparameter settings. Typically, 20% to 30% is a good range.\n",
        "   - **Performance Evaluation:** If the validation set is used primarily for performance evaluation before testing, aim for a size that ensures reliability without sacrificing too much training data. Again, 20% to 30% is common in practice.\n",
        "\n",
        "### Common Practices\n",
        "\n",
        "1. **80/20 Split:**\n",
        "   - Reserve 80% of the data for training and 20% for validation. This is a widely used split that works well for many scenarios, especially when the dataset is large enough.\n",
        "\n",
        "2. **70/30 Split:**\n",
        "   - Reserve 70% of the data for training and 30% for validation. This approach is often used when you want to ensure a more robust validation set, particularly for medium-sized datasets.\n",
        "\n",
        "3. **Cross-Validation:**\n",
        "   - For small to medium-sized datasets, cross-validation (e.g., k-fold cross-validation) can be very effective. This method involves splitting the data into multiple folds, using each fold as a validation set while training on the remaining folds. This approach provides a more comprehensive evaluation of model performance and maximizes the use of available data.\n",
        "\n",
        "4. **Holdout and Cross-Validation Combination:**\n",
        "   - In some cases, you might use a holdout validation set (e.g., 20% of the data) for initial evaluation and then apply cross-validation on a subset of the remaining data for more detailed tuning and validation.\n",
        "\n",
        "### Summary\n",
        "\n",
        "- For **large datasets**, reserving **10% to 20%** of the data for validation is typically effective.\n",
        "- For **medium-sized datasets**, a **20% to 30%** validation split is commonly used.\n",
        "- For **small datasets**, consider reserving **30% to 40%** of the data for validation, or use cross-validation to make the most of the limited data.\n",
        "\n",
        "Ultimately, the exact percentage will depend on your specific use case and dataset size. The key is to ensure that the validation set is large enough to provide reliable performance estimates while leaving sufficient data for training to build an effective model.\n",
        "\n",
        "Answer for both nearest neighbour and random classifier. You can note down the values for your experiments and plot a graph using  <a href=https://matplotlib.org/stable/gallery/lines_bars_and_markers/step_demo.html#sphx-glr-gallery-lines-bars-and-markers-step-demo-py>plt.plot<href>. Check also for extreme values for splits, like 99.9% or 0.1%"
      ]
    },
    {
      "cell_type": "markdown",
      "metadata": {
        "id": "M9zvdYY6evgI"
      },
      "source": [
        "> Exercise: Try to implement a 3 nearest neighbour classifier and compare the accuracy of the 1 nearest neighbour classifier and the 3 nearest neighbour classifier on the test dataset. You can use the KNeighborsClassifier class from the scikit-learn library to implement the K-Nearest Neighbors model. You can set the number of neighbors using the n_neighbors parameter. You can also use the accuracy_score function from the scikit-learn library to calculate the accuracy of the model."
      ]
    },
    {
      "cell_type": "markdown",
      "metadata": {
        "id": "PnYvkAZLQY7h"
      },
      "source": [
        "## Multiple Splits\n",
        "\n",
        "One way to get more accurate estimates for the test accuracy is by using <b>cross-validation</b>. Here, we will try a simple version, where we do multiple train/val splits and take the average of validation accuracies as the test accuracy estimation. Here is a function for doing this. Note that this function will take a long time to execute. You can reduce the number of splits to make it faster."
      ]
    },
    {
      "cell_type": "code",
      "execution_count": null,
      "metadata": {
        "id": "E4nGCUQXBTzo"
      },
      "outputs": [],
      "source": [
        "def AverageAccuracy(alldata, alllabel, splitpercent, iterations, classifier=NN):\n",
        "    \"\"\"\n",
        "    This function takes in the data, labels, split percentage, number of iterations and classifier function\n",
        "    and returns the average accuracy of the classifier\n",
        "\n",
        "    alldata: numpy array of shape (n,d) where n is the number of samples and d is the number of features\n",
        "    alllabel: numpy array of shape (n,) where n is the number of samples\n",
        "    splitpercent: float which is the percentage of data to be used for training\n",
        "    iterations: int which is the number of iterations to run the classifier\n",
        "    classifier: function which is the classifier function to be used\n",
        "\n",
        "    returns: the average accuracy of the classifier\n",
        "    \"\"\"\n",
        "    accuracy = 0\n",
        "    for ii in range(iterations):\n",
        "        traindata, trainlabel, valdata, vallabel = split(\n",
        "            alldata, alllabel, splitpercent\n",
        "        )\n",
        "        valpred = classifier(traindata, trainlabel, valdata)\n",
        "        accuracy += Accuracy(vallabel, valpred)\n",
        "    return accuracy / iterations  # average of all accuracies"
      ]
    },
    {
      "cell_type": "code",
      "execution_count": null,
      "metadata": {
        "id": "H3qtNar7Bbik"
      },
      "outputs": [],
      "source": [
        "avg_acc = AverageAccuracy(alltraindata, alltrainlabel, 75 / 100, 10, classifier=NN)\n",
        "print(\"Average validation accuracy:\", avg_acc*100, \"%\")\n",
        "testpred = NN(alltraindata, alltrainlabel, testdata)\n",
        "\n",
        "print(\"Test accuracy:\", Accuracy(testlabel, testpred)*100, \"%\")"
      ]
    },
    {
      "cell_type": "markdown",
      "metadata": {
        "id": "33GIn4x5VH-d"
      },
      "source": [
        "This is a very simple way of doing cross-validation. There are many well-known algorithms for cross-validation, like k-fold cross-validation, leave-one-out etc. This will be covered in detail in a later module. For more information about cross-validation, check <a href=https://en.wikipedia.org/wiki/Cross-validation_(statistics)>Cross-validatioin (Wikipedia)</a>\n",
        "\n",
        "### Questions\n",
        "1. Does averaging the validation accuracy across multiple splits give more consistent results?\n",
        "2. Does it give more accurate estimate of test accuracy?\n",
        "3. What is the effect of the number of iterations on the estimate? Do we get a better estimate with higher iterations?\n",
        "4. Consider the results you got for the previous questions. Can we deal with a very small train dataset or validation dataset by increasing the iterations?\n"
      ]
    },
    {
      "cell_type": "markdown",
      "metadata": {
        "id": "z-SBxy1qevgJ"
      },
      "source": [
        "> Exercise: How does the accuracy of the 3 nearest neighbour classifier change with the number of splits? How is it affected by the split size? Compare the results with the 1 nearest neighbour classifier."
      ]
    }
  ],
  "metadata": {
    "colab": {
      "provenance": [],
      "include_colab_link": true
    },
    "kernelspec": {
      "display_name": "Python 3",
      "name": "python3"
    },
    "language_info": {
      "codemirror_mode": {
        "name": "ipython",
        "version": 3
      },
      "file_extension": ".py",
      "mimetype": "text/x-python",
      "name": "python",
      "nbconvert_exporter": "python",
      "pygments_lexer": "ipython3",
      "version": "3.10.10"
    }
  },
  "nbformat": 4,
  "nbformat_minor": 0
}